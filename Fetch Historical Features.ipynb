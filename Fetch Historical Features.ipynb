{
 "cells": [
  {
   "cell_type": "code",
   "execution_count": 1,
   "id": "727f8cc6",
   "metadata": {},
   "outputs": [
    {
     "name": "stdout",
     "output_type": "stream",
     "text": [
      "Please enter openai api key: ········\n"
     ]
    }
   ],
   "source": [
    "%gpt python program to read a json file from the path /data/odis_male_json/995465.json and convert the file contents into a pandas dataframe"
   ]
  },
  {
   "cell_type": "code",
   "execution_count": 3,
   "id": "b9254530",
   "metadata": {},
   "outputs": [],
   "source": [
    "import pandas as pd\n",
    "import json\n",
    "\n",
    "#read the json file\n",
    "with open('/data/odis_male_json/995465.json') as f:\n",
    "  data = json.load(f)\n",
    "\n",
    "#convert the file contents into a pandas dataframe\n",
    "#df = pd.DataFrame.from_dict(data, orient='index')\n",
    "\n",
    "#print the dataframe\n",
    "#print(df)"
   ]
  },
  {
   "cell_type": "code",
   "execution_count": 7,
   "id": "f9fcc29c",
   "metadata": {},
   "outputs": [
    {
     "data": {
      "text/plain": [
       "{'balls_per_over': 6,\n",
       " 'dates': ['2016-09-04'],\n",
       " 'event': {'match_number': 5, 'name': 'Australia in Sri Lanka ODI Series'},\n",
       " 'gender': 'male',\n",
       " 'match_type': 'ODI',\n",
       " 'match_type_number': 3776,\n",
       " 'officials': {'match_referees': ['J Srinath'],\n",
       "  'reserve_umpires': ['REJ Martinesz'],\n",
       "  'tv_umpires': ['MA Gough'],\n",
       "  'umpires': ['Aleem Dar', 'RSA Palliyaguruge']},\n",
       " 'outcome': {'by': {'wickets': 5}, 'winner': 'Australia'},\n",
       " 'overs': 50,\n",
       " 'player_of_match': ['DA Warner'],\n",
       " 'players': {'Australia': ['DA Warner',\n",
       "   'MS Wade',\n",
       "   'UT Khawaja',\n",
       "   'GJ Bailey',\n",
       "   'TM Head',\n",
       "   'JP Faulkner',\n",
       "   'JW Hastings',\n",
       "   'AJ Finch',\n",
       "   'MA Starc',\n",
       "   'A Zampa',\n",
       "   'SM Boland'],\n",
       "  'Sri Lanka': ['DM de Silva',\n",
       "   'MD Gunathilaka',\n",
       "   'BKG Mendis',\n",
       "   'LD Chandimal',\n",
       "   'WU Tharanga',\n",
       "   'MDKJ Perera',\n",
       "   'MD Shanaka',\n",
       "   'SS Pathirana',\n",
       "   'MDK Perera',\n",
       "   'RAS Lakmal',\n",
       "   'MA Aponso']},\n",
       " 'registry': {'people': {'A Zampa': '14f96089',\n",
       "   'AJ Finch': 'b8d490fd',\n",
       "   'Aleem Dar': 'f02778d1',\n",
       "   'BKG Mendis': '5d1e7582',\n",
       "   'DA Warner': 'dcce6f09',\n",
       "   'DM de Silva': '7d608e12',\n",
       "   'GJ Bailey': '5056011d',\n",
       "   'J Srinath': 'bad31fac',\n",
       "   'JP Faulkner': '808f425a',\n",
       "   'JW Hastings': '012829ff',\n",
       "   'LD Chandimal': '8dd02a98',\n",
       "   'MA Aponso': 'e2ee90d9',\n",
       "   'MA Gough': '76752ac8',\n",
       "   'MA Starc': '3fb19989',\n",
       "   'MD Gunathilaka': '509a7ca1',\n",
       "   'MD Shanaka': '3ff033bb',\n",
       "   'MDK Perera': '5531248e',\n",
       "   'MDKJ Perera': 'f21043a5',\n",
       "   'MS Wade': 'afa7e784',\n",
       "   'RAS Lakmal': '2f28dc94',\n",
       "   'REJ Martinesz': '140cdf29',\n",
       "   'RSA Palliyaguruge': '4339c19d',\n",
       "   'SM Boland': 'd167edd3',\n",
       "   'SS Pathirana': '753c95b9',\n",
       "   'TM Head': '12b610c2',\n",
       "   'UT Khawaja': '331ea488',\n",
       "   'WU Tharanga': '7ed9fd56'}},\n",
       " 'season': 2016,\n",
       " 'team_type': 'international',\n",
       " 'teams': ['Sri Lanka', 'Australia'],\n",
       " 'toss': {'decision': 'bat', 'winner': 'Sri Lanka'},\n",
       " 'venue': 'Pallekele International Cricket Stadium'}"
      ]
     },
     "execution_count": 7,
     "metadata": {},
     "output_type": "execute_result"
    }
   ],
   "source": [
    "data[\"info\"]"
   ]
  },
  {
   "cell_type": "code",
   "execution_count": 2,
   "id": "f0b35fbf",
   "metadata": {},
   "outputs": [
    {
     "ename": "NameError",
     "evalue": "name 'cb' is not defined",
     "output_type": "error",
     "traceback": [
      "\u001b[0;31m---------------------------------------------------------------------------\u001b[0m",
      "\u001b[0;31mNameError\u001b[0m                                 Traceback (most recent call last)",
      "Cell \u001b[0;32mIn[2], line 1\u001b[0m\n\u001b[0;32m----> 1\u001b[0m y\u001b[38;5;241m=\u001b[39m\u001b[43mcb\u001b[49m\u001b[38;5;241m.\u001b[39mgmatchlist()\n\u001b[1;32m      2\u001b[0m \u001b[38;5;28;01mfor\u001b[39;00m x \u001b[38;5;129;01min\u001b[39;00m y:\n\u001b[1;32m      3\u001b[0m     \u001b[38;5;28mprint\u001b[39m(x)\n",
      "\u001b[0;31mNameError\u001b[0m: name 'cb' is not defined"
     ]
    }
   ],
   "source": [
    "y=cb.gmatchlist()\n",
    "for x in y:\n",
    "    print(x)"
   ]
  },
  {
   "cell_type": "code",
   "execution_count": null,
   "id": "72b9896e",
   "metadata": {},
   "outputs": [],
   "source": []
  }
 ],
 "metadata": {
  "kernelspec": {
   "display_name": "Python 3",
   "language": "python",
   "name": "python3"
  },
  "language_info": {
   "codemirror_mode": {
    "name": "ipython",
    "version": 3
   },
   "file_extension": ".py",
   "mimetype": "text/x-python",
   "name": "python",
   "nbconvert_exporter": "python",
   "pygments_lexer": "ipython3",
   "version": "3.9.17"
  }
 },
 "nbformat": 4,
 "nbformat_minor": 5
}

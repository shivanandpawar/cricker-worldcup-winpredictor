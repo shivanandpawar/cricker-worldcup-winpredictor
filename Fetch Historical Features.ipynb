{
 "cells": [
  {
   "cell_type": "code",
   "execution_count": 1,
   "id": "727f8cc6",
   "metadata": {},
   "outputs": [
    {
     "name": "stdout",
     "output_type": "stream",
     "text": [
      "Please enter openai api key: ········\n"
     ]
    }
   ],
   "source": [
    "%gpt python program to read a json file from the path /data/odis_male_json/995465.json and convert the file contents into a pandas dataframe"
   ]
  },
  {
   "cell_type": "code",
   "execution_count": 17,
   "id": "44e8c7e2",
   "metadata": {},
   "outputs": [],
   "source": [
    "import pandas as pd\n",
    "import json\n",
    "\n",
    "def parse_files(path):\n",
    "    #read the json file\n",
    "    with open('/data/odis_male_json/'+path) as f:\n",
    "      data = json.load(f)\n",
    "\n",
    "    #convert the file contents into a pandas dataframe\n",
    "    df = pd.DataFrame.from_dict(data[\"info\"], orient='index')\n",
    "    #print(path)\n",
    "    return df.T"
   ]
  },
  {
   "cell_type": "code",
   "execution_count": 43,
   "id": "40f997a5",
   "metadata": {},
   "outputs": [
    {
     "name": "stdout",
     "output_type": "stream",
     "text": [
      "Loading Records\n"
     ]
    }
   ],
   "source": [
    "print(\"Loading Records\")\n",
    "import os\n",
    "df = pd.DataFrame()\n",
    "\n",
    "folder = '/data/odis_male_json'\n",
    "\n",
    "files = os.listdir(folder)\n",
    "for file in files:\n",
    "    df1 = parse_files(file)\n",
    "    #print(df1.head())\n",
    "    df = pd.concat([df, df1], ignore_index=True)"
   ]
  },
  {
   "cell_type": "code",
   "execution_count": 46,
   "id": "72b9896e",
   "metadata": {},
   "outputs": [
    {
     "name": "stdout",
     "output_type": "stream",
     "text": [
      "Please enter openai api key: ········\n"
     ]
    }
   ],
   "source": [
    "%gpt write a pandas function to read a field name winner inside a nested json from the column outcome of dataframe by name df and create a new variable called match_winner"
   ]
  },
  {
   "cell_type": "code",
   "execution_count": 47,
   "id": "5ab32bf3",
   "metadata": {},
   "outputs": [],
   "source": [
    "df['match_winner'] = df['outcome'].apply(lambda x: x['winner'] if 'winner' in x else None)"
   ]
  },
  {
   "cell_type": "code",
   "execution_count": 49,
   "id": "ec552947",
   "metadata": {},
   "outputs": [],
   "source": [
    "%gpt in pandas column by the name teams have an array of records. write a pandas code to fetch the 0th element of the array as team1 and 1st element of the array as team 2"
   ]
  },
  {
   "cell_type": "code",
   "execution_count": 50,
   "id": "0f829263",
   "metadata": {},
   "outputs": [],
   "source": [
    "# Fetch 0th element of the array as team1 and 1st element of the array as team2\n",
    "df[\"team1\"] = df['teams'].map(lambda x: x[0])\n",
    "df[\"team2\"] = df['teams'].map(lambda x: x[1])"
   ]
  },
  {
   "cell_type": "code",
   "execution_count": 54,
   "id": "b57dbb01",
   "metadata": {},
   "outputs": [],
   "source": [
    "%gpt from the pandas dataframe by name df drop column supersubs"
   ]
  },
  {
   "cell_type": "code",
   "execution_count": null,
   "id": "b7e1d188",
   "metadata": {},
   "outputs": [],
   "source": [
    "df.drop('supersubs', axis=1)"
   ]
  },
  {
   "cell_type": "code",
   "execution_count": 34,
   "id": "06820003",
   "metadata": {},
   "outputs": [],
   "source": [
    "%gpt ValueError: Cannot mask with non-boolean array containing NA / NaN values"
   ]
  },
  {
   "cell_type": "code",
   "execution_count": null,
   "id": "c415d731",
   "metadata": {},
   "outputs": [],
   "source": [
    "This error occurs when trying to mask an array with a non-boolean array that contains missing or invalid values (such as NA or NaN). Masking is the process of selecting a subset of elements from an array according to certain criteria. In order to do this, the criteria must be expressed as a boolean array, meaning that all elements must be either True or False. If the array contains any missing or invalid values (such as NA or NaN), then it cannot be used for masking and this error will be thrown."
   ]
  },
  {
   "cell_type": "code",
   "execution_count": 27,
   "id": "b323dfac",
   "metadata": {},
   "outputs": [
    {
     "ename": "SyntaxError",
     "evalue": "invalid syntax (<unknown>, line 1)",
     "output_type": "error",
     "traceback": [
      "Traceback \u001b[0;36m(most recent call last)\u001b[0m:\n",
      "\u001b[0m  File \u001b[1;32m/opt/conda/lib/python3.9/site-packages/IPython/core/interactiveshell.py:3526\u001b[0m in \u001b[1;35mrun_code\u001b[0m\n    exec(code_obj, self.user_global_ns, self.user_ns)\u001b[0m\n",
      "\u001b[0m  Cell \u001b[1;32mIn[27], line 1\u001b[0m\n    df1 = df.query('NAME like \"%%Head%%\"')\u001b[0m\n",
      "\u001b[0m  File \u001b[1;32m/opt/conda/lib/python3.9/site-packages/pandas/core/frame.py:4602\u001b[0m in \u001b[1;35mquery\u001b[0m\n    res = self.eval(expr, **kwargs)\u001b[0m\n",
      "\u001b[0m  File \u001b[1;32m/opt/conda/lib/python3.9/site-packages/pandas/core/frame.py:4728\u001b[0m in \u001b[1;35meval\u001b[0m\n    return _eval(expr, inplace=inplace, **kwargs)\u001b[0m\n",
      "\u001b[0m  File \u001b[1;32m/opt/conda/lib/python3.9/site-packages/pandas/core/computation/eval.py:336\u001b[0m in \u001b[1;35meval\u001b[0m\n    parsed_expr = Expr(expr, engine=engine, parser=parser, env=env)\u001b[0m\n",
      "\u001b[0m  File \u001b[1;32m/opt/conda/lib/python3.9/site-packages/pandas/core/computation/expr.py:808\u001b[0m in \u001b[1;35m__init__\u001b[0m\n    self.terms = self.parse()\u001b[0m\n",
      "\u001b[0m  File \u001b[1;32m/opt/conda/lib/python3.9/site-packages/pandas/core/computation/expr.py:827\u001b[0m in \u001b[1;35mparse\u001b[0m\n    return self._visitor.visit(self.expr)\u001b[0m\n",
      "\u001b[0m  File \u001b[1;32m/opt/conda/lib/python3.9/site-packages/pandas/core/computation/expr.py:407\u001b[0m in \u001b[1;35mvisit\u001b[0m\n    raise e\u001b[0m\n",
      "\u001b[0m  File \u001b[1;32m/opt/conda/lib/python3.9/site-packages/pandas/core/computation/expr.py:403\u001b[0m in \u001b[1;35mvisit\u001b[0m\n    node = ast.fix_missing_locations(ast.parse(clean))\u001b[0m\n",
      "\u001b[0;36m  File \u001b[0;32m/opt/conda/lib/python3.9/ast.py:50\u001b[0;36m in \u001b[0;35mparse\u001b[0;36m\n\u001b[0;31m    return compile(source, filename, mode, flags,\u001b[0;36m\n",
      "\u001b[0;36m  File \u001b[0;32m<unknown>:1\u001b[0;36m\u001b[0m\n\u001b[0;31m    NAME like \"%%Head%%\"\u001b[0m\n\u001b[0m         ^\u001b[0m\n\u001b[0;31mSyntaxError\u001b[0m\u001b[0;31m:\u001b[0m invalid syntax\n"
     ]
    }
   ],
   "source": [
    "df1 = df.query('NAME like \"%%Head%%\"')"
   ]
  },
  {
   "cell_type": "code",
   "execution_count": null,
   "id": "12c08c80",
   "metadata": {},
   "outputs": [],
   "source": []
  }
 ],
 "metadata": {
  "kernelspec": {
   "display_name": "Python 3",
   "language": "python",
   "name": "python3"
  },
  "language_info": {
   "codemirror_mode": {
    "name": "ipython",
    "version": 3
   },
   "file_extension": ".py",
   "mimetype": "text/x-python",
   "name": "python",
   "nbconvert_exporter": "python",
   "pygments_lexer": "ipython3",
   "version": "3.9.17"
  }
 },
 "nbformat": 4,
 "nbformat_minor": 5
}

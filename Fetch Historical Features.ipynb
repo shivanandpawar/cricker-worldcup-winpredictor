{
 "cells": [
  {
   "cell_type": "code",
   "execution_count": 1,
   "id": "727f8cc6",
   "metadata": {},
   "outputs": [
    {
     "name": "stdout",
     "output_type": "stream",
     "text": [
      "Please enter openai api key: ········\n"
     ]
    }
   ],
   "source": [
    "%gpt python program to read a json file from the path /data/odis_male_json/995465.json and convert the file contents into a pandas dataframe"
   ]
  },
  {
   "cell_type": "code",
   "execution_count": 3,
   "id": "1cba2338",
   "metadata": {},
   "outputs": [],
   "source": [
    "import pandas as pd\n",
    "import json\n",
    "\n",
    "#read the json file\n",
    "with open('/data/odis_male_json/995465.json') as f:\n",
    "  data = json.load(f)\n",
    "\n",
    "#convert the file contents into a pandas dataframe\n",
    "df = pd.DataFrame.from_dict(data[\"info\"], orient='index')\n",
    "\n",
    "#print the dataframe\n",
    "#print(df)"
   ]
  },
  {
   "cell_type": "code",
   "execution_count": 18,
   "id": "f9fcc29c",
   "metadata": {},
   "outputs": [
    {
     "data": {
      "text/plain": [
       "{'balls_per_over': 6,\n",
       " 'dates': ['2016-09-04'],\n",
       " 'event': {'match_number': 5, 'name': 'Australia in Sri Lanka ODI Series'},\n",
       " 'gender': 'male',\n",
       " 'match_type': 'ODI',\n",
       " 'match_type_number': 3776,\n",
       " 'officials': {'match_referees': ['J Srinath'],\n",
       "  'reserve_umpires': ['REJ Martinesz'],\n",
       "  'tv_umpires': ['MA Gough'],\n",
       "  'umpires': ['Aleem Dar', 'RSA Palliyaguruge']},\n",
       " 'outcome': {'by': {'wickets': 5}, 'winner': 'Australia'},\n",
       " 'overs': 50,\n",
       " 'player_of_match': ['DA Warner'],\n",
       " 'players': {'Australia': ['DA Warner',\n",
       "   'MS Wade',\n",
       "   'UT Khawaja',\n",
       "   'GJ Bailey',\n",
       "   'TM Head',\n",
       "   'JP Faulkner',\n",
       "   'JW Hastings',\n",
       "   'AJ Finch',\n",
       "   'MA Starc',\n",
       "   'A Zampa',\n",
       "   'SM Boland'],\n",
       "  'Sri Lanka': ['DM de Silva',\n",
       "   'MD Gunathilaka',\n",
       "   'BKG Mendis',\n",
       "   'LD Chandimal',\n",
       "   'WU Tharanga',\n",
       "   'MDKJ Perera',\n",
       "   'MD Shanaka',\n",
       "   'SS Pathirana',\n",
       "   'MDK Perera',\n",
       "   'RAS Lakmal',\n",
       "   'MA Aponso']},\n",
       " 'registry': {'people': {'A Zampa': '14f96089',\n",
       "   'AJ Finch': 'b8d490fd',\n",
       "   'Aleem Dar': 'f02778d1',\n",
       "   'BKG Mendis': '5d1e7582',\n",
       "   'DA Warner': 'dcce6f09',\n",
       "   'DM de Silva': '7d608e12',\n",
       "   'GJ Bailey': '5056011d',\n",
       "   'J Srinath': 'bad31fac',\n",
       "   'JP Faulkner': '808f425a',\n",
       "   'JW Hastings': '012829ff',\n",
       "   'LD Chandimal': '8dd02a98',\n",
       "   'MA Aponso': 'e2ee90d9',\n",
       "   'MA Gough': '76752ac8',\n",
       "   'MA Starc': '3fb19989',\n",
       "   'MD Gunathilaka': '509a7ca1',\n",
       "   'MD Shanaka': '3ff033bb',\n",
       "   'MDK Perera': '5531248e',\n",
       "   'MDKJ Perera': 'f21043a5',\n",
       "   'MS Wade': 'afa7e784',\n",
       "   'RAS Lakmal': '2f28dc94',\n",
       "   'REJ Martinesz': '140cdf29',\n",
       "   'RSA Palliyaguruge': '4339c19d',\n",
       "   'SM Boland': 'd167edd3',\n",
       "   'SS Pathirana': '753c95b9',\n",
       "   'TM Head': '12b610c2',\n",
       "   'UT Khawaja': '331ea488',\n",
       "   'WU Tharanga': '7ed9fd56'}},\n",
       " 'season': 2016,\n",
       " 'team_type': 'international',\n",
       " 'teams': ['Sri Lanka', 'Australia'],\n",
       " 'toss': {'decision': 'bat', 'winner': 'Sri Lanka'},\n",
       " 'venue': 'Pallekele International Cricket Stadium'}"
      ]
     },
     "execution_count": 18,
     "metadata": {},
     "output_type": "execute_result"
    }
   ],
   "source": [
    "data[\"info\"]"
   ]
  },
  {
   "cell_type": "code",
   "execution_count": 19,
   "id": "72b9896e",
   "metadata": {},
   "outputs": [
    {
     "name": "stderr",
     "output_type": "stream",
     "text": [
      "<ipython-input-19-44c3e3b10fc4>:1: DtypeWarning: Columns (9,16,20,21,22,24,25,26,27,28,29,30,31,32,45,46,59,60,73,74,87,88,90,91,92,95,96,97,98,99,100,101,102) have mixed types. Specify dtype option on import or set low_memory=False.\n",
      "  df = pd.read_csv(\"/data/cricket_data.csv\")\n"
     ]
    }
   ],
   "source": [
    "df = pd.read_csv(\"/data/cricket_data.csv\")"
   ]
  },
  {
   "cell_type": "code",
   "execution_count": 29,
   "id": "4cd006b5",
   "metadata": {},
   "outputs": [],
   "source": [
    "%gpt pandas filter query example with string like match"
   ]
  },
  {
   "cell_type": "code",
   "execution_count": 32,
   "id": "bbe9c6da",
   "metadata": {},
   "outputs": [
    {
     "data": {
      "text/html": [
       "<div>\n",
       "<style scoped>\n",
       "    .dataframe tbody tr th:only-of-type {\n",
       "        vertical-align: middle;\n",
       "    }\n",
       "\n",
       "    .dataframe tbody tr th {\n",
       "        vertical-align: top;\n",
       "    }\n",
       "\n",
       "    .dataframe thead th {\n",
       "        text-align: right;\n",
       "    }\n",
       "</style>\n",
       "<table border=\"1\" class=\"dataframe\">\n",
       "  <thead>\n",
       "    <tr style=\"text-align: right;\">\n",
       "      <th></th>\n",
       "      <th>ID</th>\n",
       "      <th>NAME</th>\n",
       "      <th>COUNTRY</th>\n",
       "      <th>Full name</th>\n",
       "      <th>Born</th>\n",
       "      <th>Died</th>\n",
       "      <th>Current age</th>\n",
       "      <th>Major teams</th>\n",
       "      <th>Education</th>\n",
       "      <th>Height</th>\n",
       "      <th>...</th>\n",
       "      <th>BOWLING_T20s_Runs</th>\n",
       "      <th>BOWLING_T20s_Wkts</th>\n",
       "      <th>BOWLING_T20s_BBI</th>\n",
       "      <th>BOWLING_T20s_BBM</th>\n",
       "      <th>BOWLING_T20s_Ave</th>\n",
       "      <th>BOWLING_T20s_Econ</th>\n",
       "      <th>BOWLING_T20s_SR</th>\n",
       "      <th>BOWLING_T20s_4w</th>\n",
       "      <th>BOWLING_T20s_5w</th>\n",
       "      <th>BOWLING_T20s_10</th>\n",
       "    </tr>\n",
       "  </thead>\n",
       "  <tbody>\n",
       "  </tbody>\n",
       "</table>\n",
       "<p>0 rows × 181 columns</p>\n",
       "</div>"
      ],
      "text/plain": [
       "Empty DataFrame\n",
       "Columns: [ID, NAME, COUNTRY, Full name, Born, Died, Current age, Major teams, Education, Height, Nickname, Playing role, Batting style, Bowling style, Other, Relation, In a nutshell, DESCRIPTION, AWARDS, BATTING_Tests_Mat, BATTING_Tests_Inns, BATTING_Tests_NO, BATTING_Tests_Runs, BATTING_Tests_HS, BATTING_Tests_Ave, BATTING_Tests_BF, BATTING_Tests_SR, BATTING_Tests_100, BATTING_Tests_50, BATTING_Tests_4s, BATTING_Tests_6s, BATTING_Tests_Ct, BATTING_Tests_St, BATTING_ODIs_Mat, BATTING_ODIs_Inns, BATTING_ODIs_NO, BATTING_ODIs_Runs, BATTING_ODIs_HS, BATTING_ODIs_Ave, BATTING_ODIs_BF, BATTING_ODIs_SR, BATTING_ODIs_100, BATTING_ODIs_50, BATTING_ODIs_4s, BATTING_ODIs_6s, BATTING_ODIs_Ct, BATTING_ODIs_St, BATTING_T20Is_Mat, BATTING_T20Is_Inns, BATTING_T20Is_NO, BATTING_T20Is_Runs, BATTING_T20Is_HS, BATTING_T20Is_Ave, BATTING_T20Is_BF, BATTING_T20Is_SR, BATTING_T20Is_100, BATTING_T20Is_50, BATTING_T20Is_4s, BATTING_T20Is_6s, BATTING_T20Is_Ct, BATTING_T20Is_St, BATTING_First-class_Mat, BATTING_First-class_Inns, BATTING_First-class_NO, BATTING_First-class_Runs, BATTING_First-class_HS, BATTING_First-class_Ave, BATTING_First-class_BF, BATTING_First-class_SR, BATTING_First-class_100, BATTING_First-class_50, BATTING_First-class_4s, BATTING_First-class_6s, BATTING_First-class_Ct, BATTING_First-class_St, BATTING_List A_Mat, BATTING_List A_Inns, BATTING_List A_NO, BATTING_List A_Runs, BATTING_List A_HS, BATTING_List A_Ave, BATTING_List A_BF, BATTING_List A_SR, BATTING_List A_100, BATTING_List A_50, BATTING_List A_4s, BATTING_List A_6s, BATTING_List A_Ct, BATTING_List A_St, BATTING_T20s_Mat, BATTING_T20s_Inns, BATTING_T20s_NO, BATTING_T20s_Runs, BATTING_T20s_HS, BATTING_T20s_Ave, BATTING_T20s_BF, BATTING_T20s_SR, BATTING_T20s_100, BATTING_T20s_50, BATTING_T20s_4s, ...]\n",
       "Index: []\n",
       "\n",
       "[0 rows x 181 columns]"
      ]
     },
     "execution_count": 32,
     "metadata": {},
     "output_type": "execute_result"
    }
   ],
   "source": [
    "df[df[\"NAME\"]==\"Warner\"]"
   ]
  },
  {
   "cell_type": "code",
   "execution_count": null,
   "id": "d45b581b",
   "metadata": {},
   "outputs": [],
   "source": [
    "import pandas as pd\n",
    "\n",
    "# Create a dataframe\n",
    "df = pd.DataFrame({'Name': ['John', 'Paul', 'George', 'Ringo'],\n",
    "                   'Age': [30, 33, 31, 28],\n",
    "                   'City': ['New York', 'London', 'Los Angeles', 'Liverpool']})\n",
    "\n",
    "# Filter the dataframe to return only rows where the age is greater than 30\n",
    "filtered_df = df[df['Age'] > 30]\n",
    "\n",
    "# Print the filtered dataframe\n",
    "print(filtered_df)\n",
    "\n",
    "# Output\n",
    "    Name  Age         City\n",
    "1   Paul   33       London\n",
    "2  George   31  Los Angeles"
   ]
  },
  {
   "cell_type": "code",
   "execution_count": 27,
   "id": "e3c9d6a5",
   "metadata": {},
   "outputs": [
    {
     "ename": "SyntaxError",
     "evalue": "invalid syntax (<unknown>, line 1)",
     "output_type": "error",
     "traceback": [
      "Traceback \u001b[0;36m(most recent call last)\u001b[0m:\n",
      "\u001b[0m  File \u001b[1;32m/opt/conda/lib/python3.9/site-packages/IPython/core/interactiveshell.py:3526\u001b[0m in \u001b[1;35mrun_code\u001b[0m\n    exec(code_obj, self.user_global_ns, self.user_ns)\u001b[0m\n",
      "\u001b[0m  Cell \u001b[1;32mIn[27], line 1\u001b[0m\n    df1 = df.query('NAME like \"%%Head%%\"')\u001b[0m\n",
      "\u001b[0m  File \u001b[1;32m/opt/conda/lib/python3.9/site-packages/pandas/core/frame.py:4602\u001b[0m in \u001b[1;35mquery\u001b[0m\n    res = self.eval(expr, **kwargs)\u001b[0m\n",
      "\u001b[0m  File \u001b[1;32m/opt/conda/lib/python3.9/site-packages/pandas/core/frame.py:4728\u001b[0m in \u001b[1;35meval\u001b[0m\n    return _eval(expr, inplace=inplace, **kwargs)\u001b[0m\n",
      "\u001b[0m  File \u001b[1;32m/opt/conda/lib/python3.9/site-packages/pandas/core/computation/eval.py:336\u001b[0m in \u001b[1;35meval\u001b[0m\n    parsed_expr = Expr(expr, engine=engine, parser=parser, env=env)\u001b[0m\n",
      "\u001b[0m  File \u001b[1;32m/opt/conda/lib/python3.9/site-packages/pandas/core/computation/expr.py:808\u001b[0m in \u001b[1;35m__init__\u001b[0m\n    self.terms = self.parse()\u001b[0m\n",
      "\u001b[0m  File \u001b[1;32m/opt/conda/lib/python3.9/site-packages/pandas/core/computation/expr.py:827\u001b[0m in \u001b[1;35mparse\u001b[0m\n    return self._visitor.visit(self.expr)\u001b[0m\n",
      "\u001b[0m  File \u001b[1;32m/opt/conda/lib/python3.9/site-packages/pandas/core/computation/expr.py:407\u001b[0m in \u001b[1;35mvisit\u001b[0m\n    raise e\u001b[0m\n",
      "\u001b[0m  File \u001b[1;32m/opt/conda/lib/python3.9/site-packages/pandas/core/computation/expr.py:403\u001b[0m in \u001b[1;35mvisit\u001b[0m\n    node = ast.fix_missing_locations(ast.parse(clean))\u001b[0m\n",
      "\u001b[0;36m  File \u001b[0;32m/opt/conda/lib/python3.9/ast.py:50\u001b[0;36m in \u001b[0;35mparse\u001b[0;36m\n\u001b[0;31m    return compile(source, filename, mode, flags,\u001b[0;36m\n",
      "\u001b[0;36m  File \u001b[0;32m<unknown>:1\u001b[0;36m\u001b[0m\n\u001b[0;31m    NAME like \"%%Head%%\"\u001b[0m\n\u001b[0m         ^\u001b[0m\n\u001b[0;31mSyntaxError\u001b[0m\u001b[0;31m:\u001b[0m invalid syntax\n"
     ]
    }
   ],
   "source": [
    "df1 = df.query('NAME like \"%%Head%%\"')"
   ]
  },
  {
   "cell_type": "code",
   "execution_count": null,
   "id": "21a6539a",
   "metadata": {},
   "outputs": [],
   "source": []
  }
 ],
 "metadata": {
  "kernelspec": {
   "display_name": "Python 3",
   "language": "python",
   "name": "python3"
  },
  "language_info": {
   "codemirror_mode": {
    "name": "ipython",
    "version": 3
   },
   "file_extension": ".py",
   "mimetype": "text/x-python",
   "name": "python",
   "nbconvert_exporter": "python",
   "pygments_lexer": "ipython3",
   "version": "3.9.17"
  }
 },
 "nbformat": 4,
 "nbformat_minor": 5
}

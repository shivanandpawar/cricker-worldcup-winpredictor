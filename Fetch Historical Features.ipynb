{
 "cells": [
  {
   "cell_type": "code",
   "execution_count": 1,
   "id": "727f8cc6",
   "metadata": {},
   "outputs": [
    {
     "name": "stdout",
     "output_type": "stream",
     "text": [
      "Please enter openai api key: ········\n"
     ]
    }
   ],
   "source": [
    "%gpt python program to read a json file from the path /data/odis_male_json/995465.json and convert the file contents into a pandas dataframe"
   ]
  },
  {
   "cell_type": "code",
   "execution_count": 17,
   "id": "44e8c7e2",
   "metadata": {},
   "outputs": [],
   "source": [
    "import pandas as pd\n",
    "import json\n",
    "\n",
    "def parse_files(path):\n",
    "    #read the json file\n",
    "    with open('/data/odis_male_json/'+path) as f:\n",
    "      data = json.load(f)\n",
    "\n",
    "    #convert the file contents into a pandas dataframe\n",
    "    df = pd.DataFrame.from_dict(data[\"info\"], orient='index')\n",
    "    #print(path)\n",
    "    return df.T"
   ]
  },
  {
   "cell_type": "code",
   "execution_count": 25,
   "id": "40f997a5",
   "metadata": {},
   "outputs": [
    {
     "ename": "JSONDecodeError",
     "evalue": "Expecting value: line 1 column 1 (char 0)",
     "output_type": "error",
     "traceback": [
      "\u001b[0;31m---------------------------------------------------------------------------\u001b[0m",
      "\u001b[0;31mJSONDecodeError\u001b[0m                           Traceback (most recent call last)",
      "Cell \u001b[0;32mIn[25], line 8\u001b[0m\n\u001b[1;32m      6\u001b[0m files \u001b[38;5;241m=\u001b[39m os\u001b[38;5;241m.\u001b[39mlistdir(folder)\n\u001b[1;32m      7\u001b[0m \u001b[38;5;28;01mfor\u001b[39;00m file \u001b[38;5;129;01min\u001b[39;00m files:\n\u001b[0;32m----> 8\u001b[0m     df1 \u001b[38;5;241m=\u001b[39m \u001b[43mparse_files\u001b[49m\u001b[43m(\u001b[49m\u001b[43mfile\u001b[49m\u001b[43m)\u001b[49m\n\u001b[1;32m      9\u001b[0m     \u001b[38;5;66;03m#print(df1.head())\u001b[39;00m\n\u001b[1;32m     10\u001b[0m     df \u001b[38;5;241m=\u001b[39m pd\u001b[38;5;241m.\u001b[39mconcat([df, df1], ignore_index\u001b[38;5;241m=\u001b[39m\u001b[38;5;28;01mTrue\u001b[39;00m)\n",
      "Cell \u001b[0;32mIn[17], line 7\u001b[0m, in \u001b[0;36mparse_files\u001b[0;34m(path)\u001b[0m\n\u001b[1;32m      4\u001b[0m \u001b[38;5;28;01mdef\u001b[39;00m \u001b[38;5;21mparse_files\u001b[39m(path):\n\u001b[1;32m      5\u001b[0m     \u001b[38;5;66;03m#read the json file\u001b[39;00m\n\u001b[1;32m      6\u001b[0m     \u001b[38;5;28;01mwith\u001b[39;00m \u001b[38;5;28mopen\u001b[39m(\u001b[38;5;124m'\u001b[39m\u001b[38;5;124m/data/odis_male_json/\u001b[39m\u001b[38;5;124m'\u001b[39m\u001b[38;5;241m+\u001b[39mpath) \u001b[38;5;28;01mas\u001b[39;00m f:\n\u001b[0;32m----> 7\u001b[0m       data \u001b[38;5;241m=\u001b[39m \u001b[43mjson\u001b[49m\u001b[38;5;241;43m.\u001b[39;49m\u001b[43mload\u001b[49m\u001b[43m(\u001b[49m\u001b[43mf\u001b[49m\u001b[43m)\u001b[49m\n\u001b[1;32m      9\u001b[0m     \u001b[38;5;66;03m#convert the file contents into a pandas dataframe\u001b[39;00m\n\u001b[1;32m     10\u001b[0m     df \u001b[38;5;241m=\u001b[39m pd\u001b[38;5;241m.\u001b[39mDataFrame\u001b[38;5;241m.\u001b[39mfrom_dict(data[\u001b[38;5;124m\"\u001b[39m\u001b[38;5;124minfo\u001b[39m\u001b[38;5;124m\"\u001b[39m], orient\u001b[38;5;241m=\u001b[39m\u001b[38;5;124m'\u001b[39m\u001b[38;5;124mindex\u001b[39m\u001b[38;5;124m'\u001b[39m)\n",
      "File \u001b[0;32m/opt/conda/lib/python3.9/json/__init__.py:293\u001b[0m, in \u001b[0;36mload\u001b[0;34m(fp, cls, object_hook, parse_float, parse_int, parse_constant, object_pairs_hook, **kw)\u001b[0m\n\u001b[1;32m    274\u001b[0m \u001b[38;5;28;01mdef\u001b[39;00m \u001b[38;5;21mload\u001b[39m(fp, \u001b[38;5;241m*\u001b[39m, \u001b[38;5;28mcls\u001b[39m\u001b[38;5;241m=\u001b[39m\u001b[38;5;28;01mNone\u001b[39;00m, object_hook\u001b[38;5;241m=\u001b[39m\u001b[38;5;28;01mNone\u001b[39;00m, parse_float\u001b[38;5;241m=\u001b[39m\u001b[38;5;28;01mNone\u001b[39;00m,\n\u001b[1;32m    275\u001b[0m         parse_int\u001b[38;5;241m=\u001b[39m\u001b[38;5;28;01mNone\u001b[39;00m, parse_constant\u001b[38;5;241m=\u001b[39m\u001b[38;5;28;01mNone\u001b[39;00m, object_pairs_hook\u001b[38;5;241m=\u001b[39m\u001b[38;5;28;01mNone\u001b[39;00m, \u001b[38;5;241m*\u001b[39m\u001b[38;5;241m*\u001b[39mkw):\n\u001b[1;32m    276\u001b[0m \u001b[38;5;250m    \u001b[39m\u001b[38;5;124;03m\"\"\"Deserialize ``fp`` (a ``.read()``-supporting file-like object containing\u001b[39;00m\n\u001b[1;32m    277\u001b[0m \u001b[38;5;124;03m    a JSON document) to a Python object.\u001b[39;00m\n\u001b[1;32m    278\u001b[0m \n\u001b[0;32m   (...)\u001b[0m\n\u001b[1;32m    291\u001b[0m \u001b[38;5;124;03m    kwarg; otherwise ``JSONDecoder`` is used.\u001b[39;00m\n\u001b[1;32m    292\u001b[0m \u001b[38;5;124;03m    \"\"\"\u001b[39;00m\n\u001b[0;32m--> 293\u001b[0m     \u001b[38;5;28;01mreturn\u001b[39;00m \u001b[43mloads\u001b[49m\u001b[43m(\u001b[49m\u001b[43mfp\u001b[49m\u001b[38;5;241;43m.\u001b[39;49m\u001b[43mread\u001b[49m\u001b[43m(\u001b[49m\u001b[43m)\u001b[49m\u001b[43m,\u001b[49m\n\u001b[1;32m    294\u001b[0m \u001b[43m        \u001b[49m\u001b[38;5;28;43mcls\u001b[39;49m\u001b[38;5;241;43m=\u001b[39;49m\u001b[38;5;28;43mcls\u001b[39;49m\u001b[43m,\u001b[49m\u001b[43m \u001b[49m\u001b[43mobject_hook\u001b[49m\u001b[38;5;241;43m=\u001b[39;49m\u001b[43mobject_hook\u001b[49m\u001b[43m,\u001b[49m\n\u001b[1;32m    295\u001b[0m \u001b[43m        \u001b[49m\u001b[43mparse_float\u001b[49m\u001b[38;5;241;43m=\u001b[39;49m\u001b[43mparse_float\u001b[49m\u001b[43m,\u001b[49m\u001b[43m \u001b[49m\u001b[43mparse_int\u001b[49m\u001b[38;5;241;43m=\u001b[39;49m\u001b[43mparse_int\u001b[49m\u001b[43m,\u001b[49m\n\u001b[1;32m    296\u001b[0m \u001b[43m        \u001b[49m\u001b[43mparse_constant\u001b[49m\u001b[38;5;241;43m=\u001b[39;49m\u001b[43mparse_constant\u001b[49m\u001b[43m,\u001b[49m\u001b[43m \u001b[49m\u001b[43mobject_pairs_hook\u001b[49m\u001b[38;5;241;43m=\u001b[39;49m\u001b[43mobject_pairs_hook\u001b[49m\u001b[43m,\u001b[49m\u001b[43m \u001b[49m\u001b[38;5;241;43m*\u001b[39;49m\u001b[38;5;241;43m*\u001b[39;49m\u001b[43mkw\u001b[49m\u001b[43m)\u001b[49m\n",
      "File \u001b[0;32m/opt/conda/lib/python3.9/json/__init__.py:346\u001b[0m, in \u001b[0;36mloads\u001b[0;34m(s, cls, object_hook, parse_float, parse_int, parse_constant, object_pairs_hook, **kw)\u001b[0m\n\u001b[1;32m    341\u001b[0m     s \u001b[38;5;241m=\u001b[39m s\u001b[38;5;241m.\u001b[39mdecode(detect_encoding(s), \u001b[38;5;124m'\u001b[39m\u001b[38;5;124msurrogatepass\u001b[39m\u001b[38;5;124m'\u001b[39m)\n\u001b[1;32m    343\u001b[0m \u001b[38;5;28;01mif\u001b[39;00m (\u001b[38;5;28mcls\u001b[39m \u001b[38;5;129;01mis\u001b[39;00m \u001b[38;5;28;01mNone\u001b[39;00m \u001b[38;5;129;01mand\u001b[39;00m object_hook \u001b[38;5;129;01mis\u001b[39;00m \u001b[38;5;28;01mNone\u001b[39;00m \u001b[38;5;129;01mand\u001b[39;00m\n\u001b[1;32m    344\u001b[0m         parse_int \u001b[38;5;129;01mis\u001b[39;00m \u001b[38;5;28;01mNone\u001b[39;00m \u001b[38;5;129;01mand\u001b[39;00m parse_float \u001b[38;5;129;01mis\u001b[39;00m \u001b[38;5;28;01mNone\u001b[39;00m \u001b[38;5;129;01mand\u001b[39;00m\n\u001b[1;32m    345\u001b[0m         parse_constant \u001b[38;5;129;01mis\u001b[39;00m \u001b[38;5;28;01mNone\u001b[39;00m \u001b[38;5;129;01mand\u001b[39;00m object_pairs_hook \u001b[38;5;129;01mis\u001b[39;00m \u001b[38;5;28;01mNone\u001b[39;00m \u001b[38;5;129;01mand\u001b[39;00m \u001b[38;5;129;01mnot\u001b[39;00m kw):\n\u001b[0;32m--> 346\u001b[0m     \u001b[38;5;28;01mreturn\u001b[39;00m \u001b[43m_default_decoder\u001b[49m\u001b[38;5;241;43m.\u001b[39;49m\u001b[43mdecode\u001b[49m\u001b[43m(\u001b[49m\u001b[43ms\u001b[49m\u001b[43m)\u001b[49m\n\u001b[1;32m    347\u001b[0m \u001b[38;5;28;01mif\u001b[39;00m \u001b[38;5;28mcls\u001b[39m \u001b[38;5;129;01mis\u001b[39;00m \u001b[38;5;28;01mNone\u001b[39;00m:\n\u001b[1;32m    348\u001b[0m     \u001b[38;5;28mcls\u001b[39m \u001b[38;5;241m=\u001b[39m JSONDecoder\n",
      "File \u001b[0;32m/opt/conda/lib/python3.9/json/decoder.py:337\u001b[0m, in \u001b[0;36mJSONDecoder.decode\u001b[0;34m(self, s, _w)\u001b[0m\n\u001b[1;32m    332\u001b[0m \u001b[38;5;28;01mdef\u001b[39;00m \u001b[38;5;21mdecode\u001b[39m(\u001b[38;5;28mself\u001b[39m, s, _w\u001b[38;5;241m=\u001b[39mWHITESPACE\u001b[38;5;241m.\u001b[39mmatch):\n\u001b[1;32m    333\u001b[0m \u001b[38;5;250m    \u001b[39m\u001b[38;5;124;03m\"\"\"Return the Python representation of ``s`` (a ``str`` instance\u001b[39;00m\n\u001b[1;32m    334\u001b[0m \u001b[38;5;124;03m    containing a JSON document).\u001b[39;00m\n\u001b[1;32m    335\u001b[0m \n\u001b[1;32m    336\u001b[0m \u001b[38;5;124;03m    \"\"\"\u001b[39;00m\n\u001b[0;32m--> 337\u001b[0m     obj, end \u001b[38;5;241m=\u001b[39m \u001b[38;5;28;43mself\u001b[39;49m\u001b[38;5;241;43m.\u001b[39;49m\u001b[43mraw_decode\u001b[49m\u001b[43m(\u001b[49m\u001b[43ms\u001b[49m\u001b[43m,\u001b[49m\u001b[43m \u001b[49m\u001b[43midx\u001b[49m\u001b[38;5;241;43m=\u001b[39;49m\u001b[43m_w\u001b[49m\u001b[43m(\u001b[49m\u001b[43ms\u001b[49m\u001b[43m,\u001b[49m\u001b[43m \u001b[49m\u001b[38;5;241;43m0\u001b[39;49m\u001b[43m)\u001b[49m\u001b[38;5;241;43m.\u001b[39;49m\u001b[43mend\u001b[49m\u001b[43m(\u001b[49m\u001b[43m)\u001b[49m\u001b[43m)\u001b[49m\n\u001b[1;32m    338\u001b[0m     end \u001b[38;5;241m=\u001b[39m _w(s, end)\u001b[38;5;241m.\u001b[39mend()\n\u001b[1;32m    339\u001b[0m     \u001b[38;5;28;01mif\u001b[39;00m end \u001b[38;5;241m!=\u001b[39m \u001b[38;5;28mlen\u001b[39m(s):\n",
      "File \u001b[0;32m/opt/conda/lib/python3.9/json/decoder.py:355\u001b[0m, in \u001b[0;36mJSONDecoder.raw_decode\u001b[0;34m(self, s, idx)\u001b[0m\n\u001b[1;32m    353\u001b[0m     obj, end \u001b[38;5;241m=\u001b[39m \u001b[38;5;28mself\u001b[39m\u001b[38;5;241m.\u001b[39mscan_once(s, idx)\n\u001b[1;32m    354\u001b[0m \u001b[38;5;28;01mexcept\u001b[39;00m \u001b[38;5;167;01mStopIteration\u001b[39;00m \u001b[38;5;28;01mas\u001b[39;00m err:\n\u001b[0;32m--> 355\u001b[0m     \u001b[38;5;28;01mraise\u001b[39;00m JSONDecodeError(\u001b[38;5;124m\"\u001b[39m\u001b[38;5;124mExpecting value\u001b[39m\u001b[38;5;124m\"\u001b[39m, s, err\u001b[38;5;241m.\u001b[39mvalue) \u001b[38;5;28;01mfrom\u001b[39;00m \u001b[38;5;28;01mNone\u001b[39;00m\n\u001b[1;32m    356\u001b[0m \u001b[38;5;28;01mreturn\u001b[39;00m obj, end\n",
      "\u001b[0;31mJSONDecodeError\u001b[0m: Expecting value: line 1 column 1 (char 0)"
     ]
    }
   ],
   "source": [
    "import os\n",
    "df = pd.DataFrame()\n",
    "\n",
    "folder = '/data/odis_male_json'\n",
    "\n",
    "files = os.listdir(folder)\n",
    "for file in files:\n",
    "    df1 = parse_files(file)\n",
    "    #print(df1.head())\n",
    "    df = pd.concat([df, df1], ignore_index=True)"
   ]
  },
  {
   "cell_type": "code",
   "execution_count": 37,
   "id": "6f135d8e",
   "metadata": {},
   "outputs": [
    {
     "data": {
      "text/plain": [
       "array(['Brisbane Cricket Ground, Woolloongabba',\n",
       "       'Melbourne Cricket Ground',\n",
       "       'Western Australia Cricket Association Ground',\n",
       "       'Sydney Cricket Ground', 'Adelaide Oval', 'Manuka Oval',\n",
       "       'Grange Cricket Club Ground, Raeburn Place', 'Harare Sports Club',\n",
       "       'Hagley Oval', 'Saxton Oval', 'Eden Park', 'Seddon Park',\n",
       "       'Westpac Stadium', 'Kennington Oval', 'Edgbaston',\n",
       "       'Sophia Gardens', 'Mission Road Ground, Mong Kok',\n",
       "       'Sir Vivian Richards Stadium, North Sound',\n",
       "       'Kensington Oval, Bridgetown', 'County Ground', \"Lord's\",\n",
       "       'Shere Bangla National Stadium', 'Zahur Ahmed Chowdhury Stadium',\n",
       "       'Himachal Pradesh Cricket Association Stadium', 'Feroz Shah Kotla',\n",
       "       'Punjab Cricket Association Stadium, Mohali',\n",
       "       'JSCA International Stadium Complex',\n",
       "       'Dr. Y.S. Rajasekhara Reddy ACA-VDCA Cricket Stadium',\n",
       "       'Headingley', 'The Rose Bowl', 'Old Trafford', 'Trent Bridge',\n",
       "       'Malahide', 'Clontarf Cricket Club Ground',\n",
       "       'Maharashtra Cricket Association Stadium', 'Barabati Stadium',\n",
       "       'Eden Gardens', 'Greater Noida Sports Complex Ground',\n",
       "       'Sharjah Cricket Stadium', 'Sheikh Zayed Stadium',\n",
       "       'Queens Sports Club', 'Perth Stadium', 'Diamond Oval',\n",
       "       'Boland Park', 'Buffalo Park', 'Providence Stadium',\n",
       "       'Dubai International Cricket Stadium',\n",
       "       'ICC Global Cricket Academy',\n",
       "       'Rangiri Dambulla International Stadium',\n",
       "       'Sinhalese Sports Club Ground',\n",
       "       'Darren Sammy National Cricket Stadium, Gros Islet',\n",
       "       \"Queen's Park Oval, Port of Spain\", 'Sabina Park, Kingston',\n",
       "       'Galle International Stadium',\n",
       "       'Mahinda Rajapaksa International Cricket Stadium, Sooriyawewa',\n",
       "       'Pallekele International Cricket Stadium',\n",
       "       'R.Premadasa Stadium, Khettarama', 'Bay Oval', 'University Oval',\n",
       "       'Cobham Oval (New)', 'Basin Reserve',\n",
       "       'MA Chidambaram Stadium, Chepauk', 'Holkar Cricket Stadium',\n",
       "       'M.Chinnaswamy Stadium',\n",
       "       'Vidarbha Cricket Association Stadium, Jamtha', 'Riverside Ground',\n",
       "       'Wankhede Stadium', 'Green Park', 'Kingsmead', 'SuperSport Park',\n",
       "       'Newlands', 'The Wanderers Stadium', \"St George's Park\",\n",
       "       'Punjab Cricket Association IS Bindra Stadium, Mohali',\n",
       "       'ICC Academy', 'Shere Bangla National Stadium, Mirpur',\n",
       "       'Bulawayo Athletic Club', 'Old Hararians', 'Mangaung Oval',\n",
       "       'The Cooper Associates County Ground', 'Bellerive Oval',\n",
       "       'Warner Park, Basseterre', 'Civil Service Cricket Club, Stormont',\n",
       "       'Sylhet International Cricket Stadium', 'McLean Park',\n",
       "       'Kinrara Academy Oval', 'Barsapara Cricket Stadium',\n",
       "       'Brabourne Stadium', 'Greenfield International Stadium',\n",
       "       'Kensington Oval, Barbados', 'National Cricket Stadium, Grenada',\n",
       "       'Darren Sammy National Cricket Stadium, St Lucia',\n",
       "       'The Village, Malahide',\n",
       "       'Rajiv Gandhi International Cricket Stadium, Dehradun',\n",
       "       'Rajiv Gandhi International Stadium, Uppal',\n",
       "       'Arun Jaitley Stadium', 'Castle Avenue',\n",
       "       'Bready Cricket Club, Magheramason',\n",
       "       'Grange Cricket Club, Raeburn Place', 'Affies Park',\n",
       "       'Wanderers Cricket Ground', 'Senwes Park',\n",
       "       'Saurashtra Cricket Association Stadium',\n",
       "       'Sportpark Het Schootsveld', 'Providence Stadium, Guyana',\n",
       "       \"Queen's Park Oval, Trinidad\",\n",
       "       'Bharat Ratna Shri Atal Bihari Vajpayee Ekana Cricket Stadium',\n",
       "       'Mannofield Park', 'National Stadium',\n",
       "       'Central Broward Regional Park Stadium Turf Ground',\n",
       "       'Al Amerat Cricket Ground Oman Cricket (Ministry Turf 1)',\n",
       "       'Tribhuvan University International Cricket Ground',\n",
       "       'Rawalpindi Cricket Stadium',\n",
       "       'Riverside Ground, Chester-le-Street', 'Kennington Oval, London',\n",
       "       'County Ground, Bristol', 'Sophia Gardens, Cardiff',\n",
       "       \"Lord's, London\", 'Edgbaston, Birmingham',\n",
       "       'SuperSport Park, Centurion', 'The Village, Malahide, Dublin',\n",
       "       'Sportpark Maarschalkerweerd, Utrecht',\n",
       "       'Sir Vivian Richards Stadium', 'Hazelaarweg, Rotterdam',\n",
       "       'Sher-e-Bangla National Cricket Stadium',\n",
       "       'R Premadasa Stadium, Colombo',\n",
       "       'Kensington Oval, Bridgetown, Barbados',\n",
       "       'Civil Service Cricket Club, Stormont, Belfast',\n",
       "       'Al Amerat Cricket Ground Oman Cricket (Ministry Turf 2)',\n",
       "       'Old Trafford, Manchester', 'Headingley, Leeds',\n",
       "       'Boland Park, Paarl', 'Newlands, Cape Town',\n",
       "       'Sabina Park, Kingston, Jamaica',\n",
       "       'The Wanderers Stadium, Johannesburg',\n",
       "       'Narendra Modi Stadium, Ahmedabad', 'VRA Ground, Amstelveen',\n",
       "       'Gaddafi Stadium, Lahore', 'Bay Oval, Mount Maunganui',\n",
       "       'Seddon Park, Hamilton', 'Wanderers Cricket Ground, Windhoek',\n",
       "       'West End Park International Cricket Stadium, Doha',\n",
       "       'Zahur Ahmed Chowdhury Stadium, Chattogram', 'ICC Academy, Dubai',\n",
       "       'Tribhuvan University International Cricket Ground, Kirtipur',\n",
       "       'Grange Cricket Club Ground, Raeburn Place, Edinburgh',\n",
       "       'Choice Moosa Stadium, Pearland',\n",
       "       'Moosa Cricket Stadium, Pearland', 'Multan Cricket Stadium',\n",
       "       'Tony Ireland Stadium, Townsville', 'Riverway Stadium, Townsville',\n",
       "       \"Cazaly's Stadium, Cairns\",\n",
       "       \"Queen's Park Oval, Port of Spain, Trinidad\",\n",
       "       'Cambusdoon New Ground, Ayr', 'Titwood, Glasgow',\n",
       "       'Mannofield Park, Aberdeen', 'Eden Park, Auckland',\n",
       "       'Hagley Oval, Christchurch',\n",
       "       'Bharat Ratna Shri Atal Bihari Vajpayee Ekana Cricket Stadium, Lucknow',\n",
       "       'JSCA International Stadium Complex, Ranchi',\n",
       "       'Arun Jaitley Stadium, Delhi', 'Amini Park, Port Moresby',\n",
       "       'The Rose Bowl, Southampton', 'Trent Bridge, Nottingham',\n",
       "       'Mangaung Oval, Bloemfontein', 'Diamond Oval, Kimberley',\n",
       "       'Buffalo Park, East London', 'Senwes Park, Potchefstroom',\n",
       "       'Willowmoore Park, Benoni', 'National Stadium, Karachi',\n",
       "       'United Cricket Club Ground, Windhoek',\n",
       "       'Barsapara Cricket Stadium, Guwahati', 'Eden Gardens, Kolkata',\n",
       "       'Greenfield International Stadium, Thiruvananthapuram',\n",
       "       'Rajiv Gandhi International Stadium, Uppal, Hyderabad',\n",
       "       'Shaheed Veer Narayan Singh International Stadium, Raipur',\n",
       "       'Holkar Cricket Stadium, Indore', 'Wankhede Stadium, Mumbai',\n",
       "       'Dr. Y.S. Rajasekhara Reddy ACA-VDCA Cricket Stadium, Visakhapatnam',\n",
       "       'MA Chidambaram Stadium, Chepauk, Chennai',\n",
       "       'County Ground, Chelmsford', 'Mulpani Cricket Ground',\n",
       "       'Sedgars Park, Potchefstroom',\n",
       "       'Mahinda Rajapaksa International Cricket Stadium, Sooriyawewa, Hambantota',\n",
       "       'Takashinga Sports Club, Highfield, Harare',\n",
       "       'Queens Sports Club, Bulawayo',\n",
       "       'Brian Lara Stadium, Tarouba, Trinidad',\n",
       "       'Punjab Cricket Association IS Bindra Stadium, Mohali, Chandigarh',\n",
       "       'Saurashtra Cricket Association Stadium, Rajkot',\n",
       "       'Arnos Vale Ground, Kingstown',\n",
       "       'Daren Sammy National Cricket Stadium, Gros Islet',\n",
       "       'St Lawrence Ground', 'Docklands Stadium', 'Vidarbha C.A. Ground',\n",
       "       'Nehru Stadium', 'Sardar Patel (Gujarat) Stadium, Motera',\n",
       "       'Madhavrao Scindia Cricket Ground', 'Reliance Stadium',\n",
       "       'Gaddafi Stadium', 'John Davies Oval', 'Jade Stadium',\n",
       "       'Arbab Niaz Stadium', 'Shaheed Chandu Stadium',\n",
       "       'Chittagong Divisional Stadium', 'Narayanganj Osmani Stadium',\n",
       "       'Queenstown Events Centre', 'Nahar Singh Stadium',\n",
       "       'Nehru Stadium, Fatorda', 'Keenan Stadium',\n",
       "       'Maharani Usharaje Trust Cricket Ground', 'New Wanderers Stadium',\n",
       "       'R Premadasa Stadium', \"Antigua Recreation Ground, St John's\",\n",
       "       'Beausejour Stadium, Gros Islet',\n",
       "       \"National Cricket Stadium, St George's\", 'Gymkhana Club Ground',\n",
       "       'Sardar Patel Stadium, Motera', 'Sawai Mansingh Stadium',\n",
       "       'Goodyear Park', 'Sedgars Park', 'Iqbal Stadium',\n",
       "       'Willowmoore Park', 'Ruaraka Sports Club Ground',\n",
       "       'Jaffery Sports Club Ground',\n",
       "       'Indian Petrochemicals Corporation Limited Sports Complex Ground',\n",
       "       'Andhra Cricket Association-Visakhapatnam District Cricket Association Stadium',\n",
       "       'Titwood', 'M Chinnaswamy Stadium', 'P Saravanamuttu Stadium',\n",
       "       'Sector 16 Stadium', 'Vidarbha Cricket Association Ground',\n",
       "       'Captain Roop Singh Stadium', 'AMI Stadium',\n",
       "       'Maple Leaf North-West Ground', 'Cambusdoon New Ground',\n",
       "       'Niaz Stadium, Hyderabad', 'Sheikhupura Stadium',\n",
       "       'Marrara Cricket Ground', 'OUTsurance Oval',\n",
       "       'Dubai Sports City Cricket Stadium', 'Windsor Park, Roseau',\n",
       "       'Zohur Ahmed Chowdhury Stadium', 'VRA Ground',\n",
       "       'Toronto Cricket, Skating and Curling Club', 'Chevrolet Park',\n",
       "       'De Beers Diamond Oval', 'Mombasa Sports Club Ground',\n",
       "       'Sharjah Cricket Association Stadium', 'Sheikh Abu Naser Stadium',\n",
       "       'McLean Park, Napier', 'Jade Stadium, Christchurch',\n",
       "       'Davies Park, Queenstown', 'Westpac Stadium, Wellington',\n",
       "       'Westpac Park, Hamilton',\n",
       "       \"Queen's Park (New), St George's, Grenada\",\n",
       "       'Arnos Vale Ground, Kingstown, St Vincent',\n",
       "       'Bundaberg Rum Stadium, Cairns', 'Marrara Cricket Ground, Darwin',\n",
       "       'Iqbal Stadium, Faisalabad', 'MA Aziz Stadium, Chittagong',\n",
       "       'Bangabandhu National Stadium, Dhaka', 'Carisbrook',\n",
       "       'R.Premadasa Stadium', \"Queen's Park Oval\",\n",
       "       'Daren Sammy National Cricket Stadium', 'Arnos Vale Ground',\n",
       "       'National Cricket Stadium', 'Sinhalese Sports Club',\n",
       "       'MA Aziz Stadium', 'Bangabandhu National Stadium',\n",
       "       'Goodyear Park, Bloemfontein',\n",
       "       'New Wanderers Stadium, Johannesburg', 'Kingsmead, Durban',\n",
       "       'North West Cricket Stadium, Potchefstroom',\n",
       "       'Boland Bank Park, Paarl', \"St George's Park, Port Elizabeth\",\n",
       "       'De Beers Diamond Oval, Kimberley', 'City Oval, Pietermaritzburg',\n",
       "       'Gymkhana Club Ground, Nairobi', 'Bellerive Oval, Hobart',\n",
       "       'Brisbane Cricket Ground, Woolloongabba, Brisbane',\n",
       "       'Brisbane Cricket Ground', 'W.A.C.A. Ground',\n",
       "       'St Lawrence Ground, Canterbury',\n",
       "       'The Royal & Sun Alliance County Ground, Bristol',\n",
       "       'Captain Roop Singh Stadium, Gwalior',\n",
       "       'Nahar Singh Stadium, Faridabad', 'Nehru Stadium, Poona',\n",
       "       'Barabati Stadium, Cuttack',\n",
       "       'Lal Bahadur Shastri Stadium, Hyderabad, Deccan',\n",
       "       'VRA Cricket Ground', 'Khan Shaheb Osman Ali Stadium',\n",
       "       'Bert Sutcliffe Oval', 'Clontarf Cricket Club Ground, Dublin'],\n",
       "      dtype=object)"
      ]
     },
     "execution_count": 37,
     "metadata": {},
     "output_type": "execute_result"
    }
   ],
   "source": [
    "df[\"venue\"].unique()"
   ]
  },
  {
   "cell_type": "code",
   "execution_count": 16,
   "id": "72b9896e",
   "metadata": {},
   "outputs": [
    {
     "data": {
      "text/html": [
       "<div>\n",
       "<style scoped>\n",
       "    .dataframe tbody tr th:only-of-type {\n",
       "        vertical-align: middle;\n",
       "    }\n",
       "\n",
       "    .dataframe tbody tr th {\n",
       "        vertical-align: top;\n",
       "    }\n",
       "\n",
       "    .dataframe thead th {\n",
       "        text-align: right;\n",
       "    }\n",
       "</style>\n",
       "<table border=\"1\" class=\"dataframe\">\n",
       "  <thead>\n",
       "    <tr style=\"text-align: right;\">\n",
       "      <th></th>\n",
       "    </tr>\n",
       "  </thead>\n",
       "  <tbody>\n",
       "  </tbody>\n",
       "</table>\n",
       "</div>"
      ],
      "text/plain": [
       "Empty DataFrame\n",
       "Columns: []\n",
       "Index: []"
      ]
     },
     "execution_count": 16,
     "metadata": {},
     "output_type": "execute_result"
    }
   ],
   "source": [
    "df"
   ]
  },
  {
   "cell_type": "code",
   "execution_count": 29,
   "id": "ec552947",
   "metadata": {},
   "outputs": [],
   "source": [
    "%gpt pandas filter query example with string like match"
   ]
  },
  {
   "cell_type": "code",
   "execution_count": 33,
   "id": "b57dbb01",
   "metadata": {},
   "outputs": [
    {
     "ename": "ValueError",
     "evalue": "Cannot mask with non-boolean array containing NA / NaN values",
     "output_type": "error",
     "traceback": [
      "\u001b[0;31m---------------------------------------------------------------------------\u001b[0m",
      "\u001b[0;31mValueError\u001b[0m                                Traceback (most recent call last)",
      "Cell \u001b[0;32mIn[33], line 1\u001b[0m\n\u001b[0;32m----> 1\u001b[0m \u001b[43mdf\u001b[49m\u001b[43m[\u001b[49m\u001b[43mdf\u001b[49m\u001b[43m[\u001b[49m\u001b[38;5;124;43m\"\u001b[39;49m\u001b[38;5;124;43mNAME\u001b[39;49m\u001b[38;5;124;43m\"\u001b[39;49m\u001b[43m]\u001b[49m\u001b[38;5;241;43m.\u001b[39;49m\u001b[43mstr\u001b[49m\u001b[38;5;241;43m.\u001b[39;49m\u001b[43mcontains\u001b[49m\u001b[43m(\u001b[49m\u001b[38;5;124;43m\"\u001b[39;49m\u001b[38;5;124;43mWarner\u001b[39;49m\u001b[38;5;124;43m\"\u001b[39;49m\u001b[43m)\u001b[49m\u001b[43m]\u001b[49m\n",
      "File \u001b[0;32m/opt/conda/lib/python3.9/site-packages/pandas/core/frame.py:3886\u001b[0m, in \u001b[0;36mDataFrame.__getitem__\u001b[0;34m(self, key)\u001b[0m\n\u001b[1;32m   3883\u001b[0m     \u001b[38;5;28;01mreturn\u001b[39;00m \u001b[38;5;28mself\u001b[39m\u001b[38;5;241m.\u001b[39mwhere(key)\n\u001b[1;32m   3885\u001b[0m \u001b[38;5;66;03m# Do we have a (boolean) 1d indexer?\u001b[39;00m\n\u001b[0;32m-> 3886\u001b[0m \u001b[38;5;28;01mif\u001b[39;00m \u001b[43mcom\u001b[49m\u001b[38;5;241;43m.\u001b[39;49m\u001b[43mis_bool_indexer\u001b[49m\u001b[43m(\u001b[49m\u001b[43mkey\u001b[49m\u001b[43m)\u001b[49m:\n\u001b[1;32m   3887\u001b[0m     \u001b[38;5;28;01mreturn\u001b[39;00m \u001b[38;5;28mself\u001b[39m\u001b[38;5;241m.\u001b[39m_getitem_bool_array(key)\n\u001b[1;32m   3889\u001b[0m \u001b[38;5;66;03m# We are left with two options: a single key, and a collection of keys,\u001b[39;00m\n\u001b[1;32m   3890\u001b[0m \u001b[38;5;66;03m# We interpret tuples as collections only for non-MultiIndex\u001b[39;00m\n",
      "File \u001b[0;32m/opt/conda/lib/python3.9/site-packages/pandas/core/common.py:133\u001b[0m, in \u001b[0;36mis_bool_indexer\u001b[0;34m(key)\u001b[0m\n\u001b[1;32m    129\u001b[0m     na_msg \u001b[38;5;241m=\u001b[39m \u001b[38;5;124m\"\u001b[39m\u001b[38;5;124mCannot mask with non-boolean array containing NA / NaN values\u001b[39m\u001b[38;5;124m\"\u001b[39m\n\u001b[1;32m    130\u001b[0m     \u001b[38;5;28;01mif\u001b[39;00m lib\u001b[38;5;241m.\u001b[39mis_bool_array(key_array, skipna\u001b[38;5;241m=\u001b[39m\u001b[38;5;28;01mTrue\u001b[39;00m):\n\u001b[1;32m    131\u001b[0m         \u001b[38;5;66;03m# Don't raise on e.g. [\"A\", \"B\", np.nan], see\u001b[39;00m\n\u001b[1;32m    132\u001b[0m         \u001b[38;5;66;03m#  test_loc_getitem_list_of_labels_categoricalindex_with_na\u001b[39;00m\n\u001b[0;32m--> 133\u001b[0m         \u001b[38;5;28;01mraise\u001b[39;00m \u001b[38;5;167;01mValueError\u001b[39;00m(na_msg)\n\u001b[1;32m    134\u001b[0m     \u001b[38;5;28;01mreturn\u001b[39;00m \u001b[38;5;28;01mFalse\u001b[39;00m\n\u001b[1;32m    135\u001b[0m \u001b[38;5;28;01mreturn\u001b[39;00m \u001b[38;5;28;01mTrue\u001b[39;00m\n",
      "\u001b[0;31mValueError\u001b[0m: Cannot mask with non-boolean array containing NA / NaN values"
     ]
    }
   ],
   "source": [
    "df[df[\"NAME\"].str.contains(\"Warner\")]"
   ]
  },
  {
   "cell_type": "code",
   "execution_count": 34,
   "id": "06820003",
   "metadata": {},
   "outputs": [],
   "source": [
    "%gpt ValueError: Cannot mask with non-boolean array containing NA / NaN values"
   ]
  },
  {
   "cell_type": "code",
   "execution_count": null,
   "id": "c415d731",
   "metadata": {},
   "outputs": [],
   "source": [
    "This error occurs when trying to mask an array with a non-boolean array that contains missing or invalid values (such as NA or NaN). Masking is the process of selecting a subset of elements from an array according to certain criteria. In order to do this, the criteria must be expressed as a boolean array, meaning that all elements must be either True or False. If the array contains any missing or invalid values (such as NA or NaN), then it cannot be used for masking and this error will be thrown."
   ]
  },
  {
   "cell_type": "code",
   "execution_count": 27,
   "id": "b323dfac",
   "metadata": {},
   "outputs": [
    {
     "ename": "SyntaxError",
     "evalue": "invalid syntax (<unknown>, line 1)",
     "output_type": "error",
     "traceback": [
      "Traceback \u001b[0;36m(most recent call last)\u001b[0m:\n",
      "\u001b[0m  File \u001b[1;32m/opt/conda/lib/python3.9/site-packages/IPython/core/interactiveshell.py:3526\u001b[0m in \u001b[1;35mrun_code\u001b[0m\n    exec(code_obj, self.user_global_ns, self.user_ns)\u001b[0m\n",
      "\u001b[0m  Cell \u001b[1;32mIn[27], line 1\u001b[0m\n    df1 = df.query('NAME like \"%%Head%%\"')\u001b[0m\n",
      "\u001b[0m  File \u001b[1;32m/opt/conda/lib/python3.9/site-packages/pandas/core/frame.py:4602\u001b[0m in \u001b[1;35mquery\u001b[0m\n    res = self.eval(expr, **kwargs)\u001b[0m\n",
      "\u001b[0m  File \u001b[1;32m/opt/conda/lib/python3.9/site-packages/pandas/core/frame.py:4728\u001b[0m in \u001b[1;35meval\u001b[0m\n    return _eval(expr, inplace=inplace, **kwargs)\u001b[0m\n",
      "\u001b[0m  File \u001b[1;32m/opt/conda/lib/python3.9/site-packages/pandas/core/computation/eval.py:336\u001b[0m in \u001b[1;35meval\u001b[0m\n    parsed_expr = Expr(expr, engine=engine, parser=parser, env=env)\u001b[0m\n",
      "\u001b[0m  File \u001b[1;32m/opt/conda/lib/python3.9/site-packages/pandas/core/computation/expr.py:808\u001b[0m in \u001b[1;35m__init__\u001b[0m\n    self.terms = self.parse()\u001b[0m\n",
      "\u001b[0m  File \u001b[1;32m/opt/conda/lib/python3.9/site-packages/pandas/core/computation/expr.py:827\u001b[0m in \u001b[1;35mparse\u001b[0m\n    return self._visitor.visit(self.expr)\u001b[0m\n",
      "\u001b[0m  File \u001b[1;32m/opt/conda/lib/python3.9/site-packages/pandas/core/computation/expr.py:407\u001b[0m in \u001b[1;35mvisit\u001b[0m\n    raise e\u001b[0m\n",
      "\u001b[0m  File \u001b[1;32m/opt/conda/lib/python3.9/site-packages/pandas/core/computation/expr.py:403\u001b[0m in \u001b[1;35mvisit\u001b[0m\n    node = ast.fix_missing_locations(ast.parse(clean))\u001b[0m\n",
      "\u001b[0;36m  File \u001b[0;32m/opt/conda/lib/python3.9/ast.py:50\u001b[0;36m in \u001b[0;35mparse\u001b[0;36m\n\u001b[0;31m    return compile(source, filename, mode, flags,\u001b[0;36m\n",
      "\u001b[0;36m  File \u001b[0;32m<unknown>:1\u001b[0;36m\u001b[0m\n\u001b[0;31m    NAME like \"%%Head%%\"\u001b[0m\n\u001b[0m         ^\u001b[0m\n\u001b[0;31mSyntaxError\u001b[0m\u001b[0;31m:\u001b[0m invalid syntax\n"
     ]
    }
   ],
   "source": [
    "df1 = df.query('NAME like \"%%Head%%\"')"
   ]
  },
  {
   "cell_type": "code",
   "execution_count": null,
   "id": "12c08c80",
   "metadata": {},
   "outputs": [],
   "source": []
  }
 ],
 "metadata": {
  "kernelspec": {
   "display_name": "Python 3",
   "language": "python",
   "name": "python3"
  },
  "language_info": {
   "codemirror_mode": {
    "name": "ipython",
    "version": 3
   },
   "file_extension": ".py",
   "mimetype": "text/x-python",
   "name": "python",
   "nbconvert_exporter": "python",
   "pygments_lexer": "ipython3",
   "version": "3.9.17"
  }
 },
 "nbformat": 4,
 "nbformat_minor": 5
}

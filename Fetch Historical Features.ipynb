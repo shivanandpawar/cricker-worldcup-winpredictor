{
 "cells": [
  {
   "cell_type": "code",
   "execution_count": 1,
   "id": "727f8cc6",
   "metadata": {},
   "outputs": [
    {
     "name": "stdout",
     "output_type": "stream",
     "text": [
      "Please enter openai api key: ········\n"
     ]
    }
   ],
   "source": [
    "%gpt python program to read a json file from the path /data/odis_male_json/995465.json and convert the file contents into a pandas dataframe"
   ]
  },
  {
   "cell_type": "code",
   "execution_count": 3,
   "id": "44e8c7e2",
   "metadata": {},
   "outputs": [],
   "source": [
    "import pandas as pd\n",
    "import json\n",
    "\n",
    "#read the json file\n",
    "with open('/data/odis_male_json/995465.json') as f:\n",
    "  data = json.load(f)\n",
    "\n",
    "#convert the file contents into a pandas dataframe\n",
    "df = pd.DataFrame.from_dict(data[\"info\"], orient='index')\n",
    "\n",
    "#print the dataframe\n",
    "#print(df)"
   ]
  },
  {
   "cell_type": "code",
   "execution_count": 18,
   "id": "f9fcc29c",
   "metadata": {},
   "outputs": [
    {
     "data": {
      "text/plain": [
       "{'balls_per_over': 6,\n",
       " 'dates': ['2016-09-04'],\n",
       " 'event': {'match_number': 5, 'name': 'Australia in Sri Lanka ODI Series'},\n",
       " 'gender': 'male',\n",
       " 'match_type': 'ODI',\n",
       " 'match_type_number': 3776,\n",
       " 'officials': {'match_referees': ['J Srinath'],\n",
       "  'reserve_umpires': ['REJ Martinesz'],\n",
       "  'tv_umpires': ['MA Gough'],\n",
       "  'umpires': ['Aleem Dar', 'RSA Palliyaguruge']},\n",
       " 'outcome': {'by': {'wickets': 5}, 'winner': 'Australia'},\n",
       " 'overs': 50,\n",
       " 'player_of_match': ['DA Warner'],\n",
       " 'players': {'Australia': ['DA Warner',\n",
       "   'MS Wade',\n",
       "   'UT Khawaja',\n",
       "   'GJ Bailey',\n",
       "   'TM Head',\n",
       "   'JP Faulkner',\n",
       "   'JW Hastings',\n",
       "   'AJ Finch',\n",
       "   'MA Starc',\n",
       "   'A Zampa',\n",
       "   'SM Boland'],\n",
       "  'Sri Lanka': ['DM de Silva',\n",
       "   'MD Gunathilaka',\n",
       "   'BKG Mendis',\n",
       "   'LD Chandimal',\n",
       "   'WU Tharanga',\n",
       "   'MDKJ Perera',\n",
       "   'MD Shanaka',\n",
       "   'SS Pathirana',\n",
       "   'MDK Perera',\n",
       "   'RAS Lakmal',\n",
       "   'MA Aponso']},\n",
       " 'registry': {'people': {'A Zampa': '14f96089',\n",
       "   'AJ Finch': 'b8d490fd',\n",
       "   'Aleem Dar': 'f02778d1',\n",
       "   'BKG Mendis': '5d1e7582',\n",
       "   'DA Warner': 'dcce6f09',\n",
       "   'DM de Silva': '7d608e12',\n",
       "   'GJ Bailey': '5056011d',\n",
       "   'J Srinath': 'bad31fac',\n",
       "   'JP Faulkner': '808f425a',\n",
       "   'JW Hastings': '012829ff',\n",
       "   'LD Chandimal': '8dd02a98',\n",
       "   'MA Aponso': 'e2ee90d9',\n",
       "   'MA Gough': '76752ac8',\n",
       "   'MA Starc': '3fb19989',\n",
       "   'MD Gunathilaka': '509a7ca1',\n",
       "   'MD Shanaka': '3ff033bb',\n",
       "   'MDK Perera': '5531248e',\n",
       "   'MDKJ Perera': 'f21043a5',\n",
       "   'MS Wade': 'afa7e784',\n",
       "   'RAS Lakmal': '2f28dc94',\n",
       "   'REJ Martinesz': '140cdf29',\n",
       "   'RSA Palliyaguruge': '4339c19d',\n",
       "   'SM Boland': 'd167edd3',\n",
       "   'SS Pathirana': '753c95b9',\n",
       "   'TM Head': '12b610c2',\n",
       "   'UT Khawaja': '331ea488',\n",
       "   'WU Tharanga': '7ed9fd56'}},\n",
       " 'season': 2016,\n",
       " 'team_type': 'international',\n",
       " 'teams': ['Sri Lanka', 'Australia'],\n",
       " 'toss': {'decision': 'bat', 'winner': 'Sri Lanka'},\n",
       " 'venue': 'Pallekele International Cricket Stadium'}"
      ]
     },
     "execution_count": 18,
     "metadata": {},
     "output_type": "execute_result"
    }
   ],
   "source": [
    "data[\"info\"]"
   ]
  },
  {
   "cell_type": "code",
   "execution_count": 19,
   "id": "72b9896e",
   "metadata": {},
   "outputs": [
    {
     "name": "stderr",
     "output_type": "stream",
     "text": [
      "<ipython-input-19-44c3e3b10fc4>:1: DtypeWarning: Columns (9,16,20,21,22,24,25,26,27,28,29,30,31,32,45,46,59,60,73,74,87,88,90,91,92,95,96,97,98,99,100,101,102) have mixed types. Specify dtype option on import or set low_memory=False.\n",
      "  df = pd.read_csv(\"/data/cricket_data.csv\")\n"
     ]
    }
   ],
   "source": [
    "df = pd.read_csv(\"/data/cricket_data.csv\")"
   ]
  },
  {
   "cell_type": "code",
   "execution_count": 29,
   "id": "ec552947",
   "metadata": {},
   "outputs": [],
   "source": [
    "%gpt pandas filter query example with string like match"
   ]
  },
  {
   "cell_type": "code",
   "execution_count": 33,
   "id": "b57dbb01",
   "metadata": {},
   "outputs": [
    {
     "ename": "ValueError",
     "evalue": "Cannot mask with non-boolean array containing NA / NaN values",
     "output_type": "error",
     "traceback": [
      "\u001b[0;31m---------------------------------------------------------------------------\u001b[0m",
      "\u001b[0;31mValueError\u001b[0m                                Traceback (most recent call last)",
      "Cell \u001b[0;32mIn[33], line 1\u001b[0m\n\u001b[0;32m----> 1\u001b[0m \u001b[43mdf\u001b[49m\u001b[43m[\u001b[49m\u001b[43mdf\u001b[49m\u001b[43m[\u001b[49m\u001b[38;5;124;43m\"\u001b[39;49m\u001b[38;5;124;43mNAME\u001b[39;49m\u001b[38;5;124;43m\"\u001b[39;49m\u001b[43m]\u001b[49m\u001b[38;5;241;43m.\u001b[39;49m\u001b[43mstr\u001b[49m\u001b[38;5;241;43m.\u001b[39;49m\u001b[43mcontains\u001b[49m\u001b[43m(\u001b[49m\u001b[38;5;124;43m\"\u001b[39;49m\u001b[38;5;124;43mWarner\u001b[39;49m\u001b[38;5;124;43m\"\u001b[39;49m\u001b[43m)\u001b[49m\u001b[43m]\u001b[49m\n",
      "File \u001b[0;32m/opt/conda/lib/python3.9/site-packages/pandas/core/frame.py:3886\u001b[0m, in \u001b[0;36mDataFrame.__getitem__\u001b[0;34m(self, key)\u001b[0m\n\u001b[1;32m   3883\u001b[0m     \u001b[38;5;28;01mreturn\u001b[39;00m \u001b[38;5;28mself\u001b[39m\u001b[38;5;241m.\u001b[39mwhere(key)\n\u001b[1;32m   3885\u001b[0m \u001b[38;5;66;03m# Do we have a (boolean) 1d indexer?\u001b[39;00m\n\u001b[0;32m-> 3886\u001b[0m \u001b[38;5;28;01mif\u001b[39;00m \u001b[43mcom\u001b[49m\u001b[38;5;241;43m.\u001b[39;49m\u001b[43mis_bool_indexer\u001b[49m\u001b[43m(\u001b[49m\u001b[43mkey\u001b[49m\u001b[43m)\u001b[49m:\n\u001b[1;32m   3887\u001b[0m     \u001b[38;5;28;01mreturn\u001b[39;00m \u001b[38;5;28mself\u001b[39m\u001b[38;5;241m.\u001b[39m_getitem_bool_array(key)\n\u001b[1;32m   3889\u001b[0m \u001b[38;5;66;03m# We are left with two options: a single key, and a collection of keys,\u001b[39;00m\n\u001b[1;32m   3890\u001b[0m \u001b[38;5;66;03m# We interpret tuples as collections only for non-MultiIndex\u001b[39;00m\n",
      "File \u001b[0;32m/opt/conda/lib/python3.9/site-packages/pandas/core/common.py:133\u001b[0m, in \u001b[0;36mis_bool_indexer\u001b[0;34m(key)\u001b[0m\n\u001b[1;32m    129\u001b[0m     na_msg \u001b[38;5;241m=\u001b[39m \u001b[38;5;124m\"\u001b[39m\u001b[38;5;124mCannot mask with non-boolean array containing NA / NaN values\u001b[39m\u001b[38;5;124m\"\u001b[39m\n\u001b[1;32m    130\u001b[0m     \u001b[38;5;28;01mif\u001b[39;00m lib\u001b[38;5;241m.\u001b[39mis_bool_array(key_array, skipna\u001b[38;5;241m=\u001b[39m\u001b[38;5;28;01mTrue\u001b[39;00m):\n\u001b[1;32m    131\u001b[0m         \u001b[38;5;66;03m# Don't raise on e.g. [\"A\", \"B\", np.nan], see\u001b[39;00m\n\u001b[1;32m    132\u001b[0m         \u001b[38;5;66;03m#  test_loc_getitem_list_of_labels_categoricalindex_with_na\u001b[39;00m\n\u001b[0;32m--> 133\u001b[0m         \u001b[38;5;28;01mraise\u001b[39;00m \u001b[38;5;167;01mValueError\u001b[39;00m(na_msg)\n\u001b[1;32m    134\u001b[0m     \u001b[38;5;28;01mreturn\u001b[39;00m \u001b[38;5;28;01mFalse\u001b[39;00m\n\u001b[1;32m    135\u001b[0m \u001b[38;5;28;01mreturn\u001b[39;00m \u001b[38;5;28;01mTrue\u001b[39;00m\n",
      "\u001b[0;31mValueError\u001b[0m: Cannot mask with non-boolean array containing NA / NaN values"
     ]
    }
   ],
   "source": [
    "df[df[\"NAME\"].str.contains(\"Warner\")]"
   ]
  },
  {
   "cell_type": "code",
   "execution_count": 34,
   "id": "06820003",
   "metadata": {},
   "outputs": [],
   "source": [
    "%gpt ValueError: Cannot mask with non-boolean array containing NA / NaN values"
   ]
  },
  {
   "cell_type": "code",
   "execution_count": null,
   "id": "c415d731",
   "metadata": {},
   "outputs": [],
   "source": [
    "This error occurs when trying to mask an array with a non-boolean array that contains missing or invalid values (such as NA or NaN). Masking is the process of selecting a subset of elements from an array according to certain criteria. In order to do this, the criteria must be expressed as a boolean array, meaning that all elements must be either True or False. If the array contains any missing or invalid values (such as NA or NaN), then it cannot be used for masking and this error will be thrown."
   ]
  },
  {
   "cell_type": "code",
   "execution_count": 27,
   "id": "b323dfac",
   "metadata": {},
   "outputs": [
    {
     "ename": "SyntaxError",
     "evalue": "invalid syntax (<unknown>, line 1)",
     "output_type": "error",
     "traceback": [
      "Traceback \u001b[0;36m(most recent call last)\u001b[0m:\n",
      "\u001b[0m  File \u001b[1;32m/opt/conda/lib/python3.9/site-packages/IPython/core/interactiveshell.py:3526\u001b[0m in \u001b[1;35mrun_code\u001b[0m\n    exec(code_obj, self.user_global_ns, self.user_ns)\u001b[0m\n",
      "\u001b[0m  Cell \u001b[1;32mIn[27], line 1\u001b[0m\n    df1 = df.query('NAME like \"%%Head%%\"')\u001b[0m\n",
      "\u001b[0m  File \u001b[1;32m/opt/conda/lib/python3.9/site-packages/pandas/core/frame.py:4602\u001b[0m in \u001b[1;35mquery\u001b[0m\n    res = self.eval(expr, **kwargs)\u001b[0m\n",
      "\u001b[0m  File \u001b[1;32m/opt/conda/lib/python3.9/site-packages/pandas/core/frame.py:4728\u001b[0m in \u001b[1;35meval\u001b[0m\n    return _eval(expr, inplace=inplace, **kwargs)\u001b[0m\n",
      "\u001b[0m  File \u001b[1;32m/opt/conda/lib/python3.9/site-packages/pandas/core/computation/eval.py:336\u001b[0m in \u001b[1;35meval\u001b[0m\n    parsed_expr = Expr(expr, engine=engine, parser=parser, env=env)\u001b[0m\n",
      "\u001b[0m  File \u001b[1;32m/opt/conda/lib/python3.9/site-packages/pandas/core/computation/expr.py:808\u001b[0m in \u001b[1;35m__init__\u001b[0m\n    self.terms = self.parse()\u001b[0m\n",
      "\u001b[0m  File \u001b[1;32m/opt/conda/lib/python3.9/site-packages/pandas/core/computation/expr.py:827\u001b[0m in \u001b[1;35mparse\u001b[0m\n    return self._visitor.visit(self.expr)\u001b[0m\n",
      "\u001b[0m  File \u001b[1;32m/opt/conda/lib/python3.9/site-packages/pandas/core/computation/expr.py:407\u001b[0m in \u001b[1;35mvisit\u001b[0m\n    raise e\u001b[0m\n",
      "\u001b[0m  File \u001b[1;32m/opt/conda/lib/python3.9/site-packages/pandas/core/computation/expr.py:403\u001b[0m in \u001b[1;35mvisit\u001b[0m\n    node = ast.fix_missing_locations(ast.parse(clean))\u001b[0m\n",
      "\u001b[0;36m  File \u001b[0;32m/opt/conda/lib/python3.9/ast.py:50\u001b[0;36m in \u001b[0;35mparse\u001b[0;36m\n\u001b[0;31m    return compile(source, filename, mode, flags,\u001b[0;36m\n",
      "\u001b[0;36m  File \u001b[0;32m<unknown>:1\u001b[0;36m\u001b[0m\n\u001b[0;31m    NAME like \"%%Head%%\"\u001b[0m\n\u001b[0m         ^\u001b[0m\n\u001b[0;31mSyntaxError\u001b[0m\u001b[0;31m:\u001b[0m invalid syntax\n"
     ]
    }
   ],
   "source": [
    "df1 = df.query('NAME like \"%%Head%%\"')"
   ]
  },
  {
   "cell_type": "code",
   "execution_count": null,
   "id": "12c08c80",
   "metadata": {},
   "outputs": [],
   "source": []
  }
 ],
 "metadata": {
  "kernelspec": {
   "display_name": "Python 3",
   "language": "python",
   "name": "python3"
  },
  "language_info": {
   "codemirror_mode": {
    "name": "ipython",
    "version": 3
   },
   "file_extension": ".py",
   "mimetype": "text/x-python",
   "name": "python",
   "nbconvert_exporter": "python",
   "pygments_lexer": "ipython3",
   "version": "3.9.17"
  }
 },
 "nbformat": 4,
 "nbformat_minor": 5
}
